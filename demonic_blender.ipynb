{
 "cells": [
  {
   "cell_type": "markdown",
   "metadata": {},
   "source": [
    "## Demonic Blend ##\n",
    "\n",
    "The goal is to blend two images, keeping the raw features of one while infusing the style of the other.\n",
    "\n",
    "##### Intuition : #####\n",
    "\n",
    "First, we want to keep a base image roughly unchanged. To do so, we will penalise its features going further and further from the original image. While passing an image through a CNN, the activations represent different level of abstractions, different features of an image.\n",
    "This raw information can tell us where to find curves, collor gradients, etc. in the image.\n",
    "This is the important feature we want to preserve from the original image.\n",
    "\n",
    "Now, we want to extract the \"style\" of the image. This is a bit different from the raw features.\n",
    "We will define the style of an image as the correlation between the different features of the image.\n",
    "To compute it we simply make the matrix of the dot product of the features of the image with themselves. See $objectives.feature\\_corelation\\_matrix$.\n",
    "The idea is as follows :\n",
    "\n",
    "If two features happen to be correlated in the \"style\" image, we want them to be correlated in the \"blended\" image as well.\n",
    "For example, if in the style image, the curve detectors are systematically triggered when there is a line of yellow surrounded by blue,\n",
    "we want the same to happen in the blended image.\n",
    "If circles always co occur with color gradient between red and green, we want circles in the blended image to behave the same way.\n",
    "\n",
    "This way, the position of the curves, triangles, ... in the original image are preserved\n",
    "while the color, gradient, sharpness, ... are replaced by the ones of the style image.\n"
   ]
  },
  {
   "cell_type": "code",
   "execution_count": 1,
   "metadata": {},
   "outputs": [
    {
     "name": "stderr",
     "output_type": "stream",
     "text": [
      "c:\\Users\\gdhim\\AppData\\Local\\Programs\\Python\\Python310\\lib\\site-packages\\tqdm\\auto.py:22: TqdmWarning: IProgress not found. Please update jupyter and ipywidgets. See https://ipywidgets.readthedocs.io/en/stable/user_install.html\n",
      "  from .autonotebook import tqdm as notebook_tqdm\n"
     ]
    }
   ],
   "source": [
    "import torch\n",
    "import torch.nn as nn\n",
    "\n",
    "import torchvision.models as models\n",
    "\n",
    "from torchvision import transforms as ttransforms\n",
    "\n",
    "from matplotlib import pyplot as plt\n",
    "\n",
    "from tqdm import tqdm\n",
    "\n",
    "import images\n",
    "import objectives\n",
    "\n",
    "device = torch.device(\"cuda\" if torch.cuda.is_available() else \"cpu\")\n",
    "torch.set_default_tensor_type('torch.cuda.FloatTensor' if torch.cuda.is_available() else 'torch.FloatTensor')"
   ]
  },
  {
   "cell_type": "code",
   "execution_count": 2,
   "metadata": {},
   "outputs": [
    {
     "name": "stderr",
     "output_type": "stream",
     "text": [
      "c:\\Users\\gdhim\\AppData\\Local\\Programs\\Python\\Python310\\lib\\site-packages\\torchvision\\models\\_utils.py:208: UserWarning: The parameter 'pretrained' is deprecated since 0.13 and may be removed in the future, please use 'weights' instead.\n",
      "  warnings.warn(\n",
      "c:\\Users\\gdhim\\AppData\\Local\\Programs\\Python\\Python310\\lib\\site-packages\\torchvision\\models\\_utils.py:223: UserWarning: Arguments other than a weight enum or `None` for 'weights' are deprecated since 0.13 and may be removed in the future. The current behavior is equivalent to passing `weights=VGG19_Weights.IMAGENET1K_V1`. You can also use `weights=VGG19_Weights.DEFAULT` to get the most up-to-date weights.\n",
      "  warnings.warn(msg)\n"
     ]
    }
   ],
   "source": [
    "model = models.vgg19(pretrained=True).features.eval()"
   ]
  },
  {
   "cell_type": "code",
   "execution_count": 3,
   "metadata": {},
   "outputs": [],
   "source": [
    "########\n",
    "# Parameters\n",
    "########\n",
    "\n",
    "lambda_base = 1\n",
    "lambda_style = 1e6\n",
    "\n",
    "\n",
    "FOURRIER = False\n",
    "RANDOM_INIT = False\n",
    "ApplyTFORM = False\n",
    "BIG = True\n",
    "\n",
    "base_img_path = \"images/Eva_01.jpg\"\n",
    "style_img_path = \"images/starry_night.jpg\"\n",
    "\n",
    "size = (512, 910) if BIG else (224, 398)\n",
    "\n",
    "\n",
    "base_layers = [\n",
    "    'conv_4'\n",
    "]\n",
    "\n",
    "style_layers = [\n",
    "    'conv_1',\n",
    "    'conv_2',\n",
    "    'conv_3',\n",
    "    'conv_4',\n",
    "    'conv_5'\n",
    "]"
   ]
  },
  {
   "cell_type": "code",
   "execution_count": 4,
   "metadata": {},
   "outputs": [],
   "source": [
    "base_img = images.ExistingImage(base_img_path, resize=size, train=False)().detach()\n",
    "style_img = images.ExistingImage(style_img_path, resize=size, train=False)().detach()\n",
    "\n",
    "blend_img = images.ExistingFourierImage(base_img_path, resize=size) if FOURRIER else images.ExistingImage(base_img_path, resize=size)\n",
    "if RANDOM_INIT :\n",
    "    blend_img = images.Image(size[1], h=size[0])"
   ]
  },
  {
   "cell_type": "code",
   "execution_count": 5,
   "metadata": {},
   "outputs": [],
   "source": [
    "base_obj = objectives.stream_difference(model, base_layers, base_img)\n",
    "style_obj = objectives.stream_difference(model, style_layers, style_img, transform=objectives.feature_corelation_matrix)\n",
    "\n",
    "objective = lambda_base * base_obj + lambda_style * style_obj"
   ]
  },
  {
   "cell_type": "code",
   "execution_count": 6,
   "metadata": {},
   "outputs": [],
   "source": [
    "def train(model, objective, param, transforms = None, epochs = 100, lr = 0.01, verbose = True, ultraverbose = False):\n",
    "    \"\"\"\n",
    "    This function trains some parameters to minimize some objective.\n",
    "\n",
    "    model : the model we are examining through feature visualization\n",
    "\n",
    "    objective : the objective we are trying to minimize.\n",
    "                e.g. the mean activation of a neuron, or the mean activation of a channel\n",
    "                or darker stuff for demonic blend.\n",
    "    \n",
    "    param : the parameters we are trying to optimize.\n",
    "            e.g. an image we want to train.\n",
    "    \n",
    "    transforms : a list of transforms to apply to the parameters before feeding them to the model.\n",
    "                 when training an image this helps for resilience to noise.\n",
    "                \n",
    "    epochs : the number of epochs to train for.\n",
    "\n",
    "    verbose : whether to print the loss over time.\n",
    "    \"\"\"\n",
    "\n",
    "    param.train()\n",
    "\n",
    "    if verbose:\n",
    "        losses = []\n",
    "    \n",
    "    parameters = param.parameters()\n",
    "    opt = torch.optim.Adam(parameters, lr=lr)\n",
    "\n",
    "    for epoch in tqdm(range(epochs)) if verbose else range(epochs):\n",
    "        opt.zero_grad()\n",
    "        loss = objective(model, param, transforms)\n",
    "        loss.backward()\n",
    "        opt.step()\n",
    "        if verbose:\n",
    "            losses.append(loss.item())\n",
    "\n",
    "        if epoch / epochs * 10 % 1 == 0 and ultraverbose:\n",
    "            image = param()\n",
    "            print(image.min(), image.max())\n",
    "            images.imshow(image)\n",
    "    \n",
    "    if verbose:\n",
    "        fig, ax = plt.subplots()\n",
    "        ax.set_xlabel('Epoch')\n",
    "        ax.set_ylabel('Loss')\n",
    "        ax.set_title('Loss over time')\n",
    "        ax.plot(losses)\n",
    "        plt.show()\n",
    "    \n",
    "    return param\n",
    "\n",
    "def visualise(model, objective, param, epochs=500, lr=10, verbose=True, ultraverbose=False, save=None):\n",
    "    if ApplyTFORM:\n",
    "        # It is verry strange but making the image resilient to transformations makes it worse (the style is not transfered at all)\n",
    "        transform1 = images.preprocess_image\n",
    "        transform2 = images.TFORM\n",
    "        transform3 = images.RESIZE(size)\n",
    "        transforms = ttransforms.Compose([transform1, transform2, transform3])\n",
    "    else:\n",
    "        transforms = images.preprocess_image\n",
    "    image = train(model, objective, param, transforms=transforms, epochs=epochs, lr = lr, verbose=verbose, ultraverbose=ultraverbose)\n",
    "    \n",
    "    if save is None:\n",
    "        images.imshow(image())\n",
    "    else:\n",
    "        images.save_image(image(), save)"
   ]
  },
  {
   "cell_type": "code",
   "execution_count": 7,
   "metadata": {},
   "outputs": [
    {
     "name": "stderr",
     "output_type": "stream",
     "text": [
      "100%|██████████| 150/150 [00:18<00:00,  8.22it/s]\n"
     ]
    },
    {
     "data": {
      "image/png": "[encoded data removed]",
      "text/plain": [
       "<Figure size 640x480 with 1 Axes>"
      ]
     },
     "metadata": {},
     "output_type": "display_data"
    }
   ],
   "source": [
    "visualise(model, objective, blend_img, lr=1e-2, epochs=150, save = \"EvaNgog.jpg\")"
   ]
  }
 ],
 "metadata": {
  "kernelspec": {
   "display_name": "Python 3",
   "language": "python",
   "name": "python3"
  },
  "language_info": {
   "codemirror_mode": {
    "name": "ipython",
    "version": 3
   },
   "file_extension": ".py",
   "mimetype": "text/x-python",
   "name": "python",
   "nbconvert_exporter": "python",
   "pygments_lexer": "ipython3",
   "version": "3.10.6"
  },
  "orig_nbformat": 4
 },
 "nbformat": 4,
 "nbformat_minor": 2
}
